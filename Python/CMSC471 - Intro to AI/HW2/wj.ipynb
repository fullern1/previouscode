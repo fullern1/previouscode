{
 "cells": [
  {
   "cell_type": "code",
   "execution_count": 6,
   "metadata": {},
   "outputs": [],
   "source": [
    "# import the AIMA search code\n",
    "from aima471.search import *\n",
    "# import our water jug solution\n",
    "import wj"
   ]
  },
  {
   "cell_type": "code",
   "execution_count": 7,
   "metadata": {},
   "outputs": [
    {
     "name": "stdout",
     "output_type": "stream",
     "text": [
      "WJ((5, 2),(5, 0),(0, 1))\n"
     ]
    }
   ],
   "source": [
    "# Create a problem instance\n",
    "p1 = wj.WJ((5,2), (5,0), (0, 1)) \n",
    "print(p1)"
   ]
  },
  {
   "cell_type": "code",
   "execution_count": 8,
   "metadata": {},
   "outputs": [
    {
     "name": "stdout",
     "output_type": "stream",
     "text": [
      "<Node (0, 1)>\n"
     ]
    }
   ],
   "source": [
    "# Use breadth 1st graph search function\n",
    "answer = breadth_first_search(p1)\n",
    "# Will be None if search failed or a goal node if successful\n",
    "print(answer)"
   ]
  },
  {
   "cell_type": "code",
   "execution_count": 9,
   "metadata": {},
   "outputs": [
    {
     "data": {
      "text/plain": [
       "5"
      ]
     },
     "execution_count": 9,
     "metadata": {},
     "output_type": "execute_result"
    }
   ],
   "source": [
    "# Cost to get to each node in search graph is maintained by search procedure\n",
    "answer.path_cost "
   ]
  },
  {
   "cell_type": "code",
   "execution_count": 10,
   "metadata": {},
   "outputs": [
    {
     "data": {
      "text/plain": [
       "[<Node (5, 0)>,\n",
       " <Node (3, 2)>,\n",
       " <Node (3, 0)>,\n",
       " <Node (1, 2)>,\n",
       " <Node (1, 0)>,\n",
       " <Node (0, 1)>]"
      ]
     },
     "execution_count": 10,
     "metadata": {},
     "output_type": "execute_result"
    }
   ],
   "source": [
    "# node’s path is best way to get to it from start node, i.e., a solution\n",
    "path = answer.path()\n",
    "path"
   ]
  },
  {
   "cell_type": "code",
   "execution_count": null,
   "metadata": {},
   "outputs": [],
   "source": []
  },
  {
   "cell_type": "code",
   "execution_count": null,
   "metadata": {},
   "outputs": [],
   "source": []
  }
 ],
 "metadata": {
  "kernelspec": {
   "display_name": "Python 3",
   "language": "python",
   "name": "python3"
  },
  "language_info": {
   "codemirror_mode": {
    "name": "ipython",
    "version": 3
   },
   "file_extension": ".py",
   "mimetype": "text/x-python",
   "name": "python",
   "nbconvert_exporter": "python",
   "pygments_lexer": "ipython3",
   "version": "3.6.0"
  }
 },
 "nbformat": 4,
 "nbformat_minor": 2
}
